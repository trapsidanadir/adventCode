{
 "cells": [
  {
   "cell_type": "markdown",
   "metadata": {},
   "source": [
    "## 1"
   ]
  },
  {
   "cell_type": "code",
   "execution_count": null,
   "metadata": {},
   "outputs": [
    {
     "name": "stdout",
     "output_type": "stream",
     "text": [
      "Response: 2970687,Time:0.0050923824310302734\n"
     ]
    }
   ],
   "source": [
    "import csv\n",
    "import time\n",
    "\n",
    "start = time.time()\n",
    "\n",
    "A = []\n",
    "B = []\n",
    "\n",
    "with open('data_1.csv', newline='') as csvfile:\n",
    "    reader = csv.reader(csvfile)\n",
    "    for row in reader:\n",
    "        a,b = row[0].split('   ')\n",
    "        A.append(int(a))\n",
    "        B.append(int(b))\n",
    "\n",
    "A=sorted(A)\n",
    "B=sorted(B)\n",
    "\n",
    "R = sum([abs(a-b) for a,b in zip(A,B)])\n",
    "end = time.time() - start\n",
    "print(f\"Response: {R},Time:{end} s\")"
   ]
  },
  {
   "cell_type": "code",
   "execution_count": 20,
   "metadata": {},
   "outputs": [
    {
     "name": "stdout",
     "output_type": "stream",
     "text": [
      "Response: 23963899,Time:0.017467975616455078 s\n"
     ]
    }
   ],
   "source": [
    "start = time.time()\n",
    "mem = {\n",
    "    key:B.count(key) for key in set(A)\n",
    "}\n",
    "\n",
    "R = sum([k*v for k,v in mem.items()])\n",
    "\n",
    "end = time.time() - start\n",
    "\n",
    "print(f\"Response: {R},Time:{end} s\")\n"
   ]
  }
 ],
 "metadata": {
  "kernelspec": {
   "display_name": "Python 3",
   "language": "python",
   "name": "python3"
  },
  "language_info": {
   "codemirror_mode": {
    "name": "ipython",
    "version": 3
   },
   "file_extension": ".py",
   "mimetype": "text/x-python",
   "name": "python",
   "nbconvert_exporter": "python",
   "pygments_lexer": "ipython3",
   "version": "3.12.7"
  }
 },
 "nbformat": 4,
 "nbformat_minor": 2
}
