{
 "cells": [
  {
   "cell_type": "markdown",
   "metadata": {},
   "source": [
    "## 1"
   ]
  },
  {
   "cell_type": "code",
   "execution_count": null,
   "metadata": {},
   "outputs": [
    {
     "name": "stdout",
     "output_type": "stream",
     "text": [
      "Response: 2970687,Time:0.0050923824310302734\n"
     ]
    }
   ],
   "source": [
    "import csv\n",
    "import time\n",
    "\n",
    "start = time.time()\n",
    "\n",
    "A = []\n",
    "B = []\n",
    "\n",
    "with open('data_1.csv', newline='') as csvfile:\n",
    "    reader = csv.reader(csvfile)\n",
    "    for row in reader:\n",
    "        a,b = row[0].split('   ')\n",
    "        A.append(int(a))\n",
    "        B.append(int(b))\n",
    "\n",
    "A=sorted(A)\n",
    "B=sorted(B)\n",
    "\n",
    "R = sum([abs(a-b) for a,b in zip(A,B)])\n",
    "end = time.time() - start\n",
    "print(f\"Response: {R},Time:{end} s\")"
   ]
  },
  {
   "cell_type": "code",
   "execution_count": 20,
   "metadata": {},
   "outputs": [
    {
     "name": "stdout",
     "output_type": "stream",
     "text": [
      "Response: 23963899,Time:0.017467975616455078 s\n"
     ]
    }
   ],
   "source": [
    "start = time.time()\n",
    "mem = {\n",
    "    key:B.count(key) for key in set(A)\n",
    "}\n",
    "\n",
    "R = sum([k*v for k,v in mem.items()])\n",
    "\n",
    "end = time.time() - start\n",
    "\n",
    "print(f\"Response: {R},Time:{end} s\")\n"
   ]
  },
  {
   "cell_type": "markdown",
   "metadata": {},
   "source": [
    "## 2\n"
   ]
  },
  {
   "cell_type": "code",
   "execution_count": 26,
   "metadata": {},
   "outputs": [
    {
     "name": "stdout",
     "output_type": "stream",
     "text": [
      "Response: 332,Time:0.008480072021484375 s\n"
     ]
    }
   ],
   "source": [
    "import csv\n",
    "import time\n",
    "\n",
    "start = time.time()\n",
    "safe = []\n",
    "\n",
    "with open('data_2.csv', newline='') as csvfile:\n",
    "    reader = csv.reader(csvfile)\n",
    "    for row in reader:\n",
    "        r = []\n",
    "        a = row[0].split(' ')\n",
    "        a = [int(i) for i in a]\n",
    "        \n",
    "        if len(set(a)) != len(a):\n",
    "            safe.append(False)\n",
    "        \n",
    "        else:\n",
    "            if a[0] < a[1]:\n",
    "                for i in range(len(a)-1):\n",
    "                    if a[i] + 4 <= a[i+1] or a[i] >= a[i+1]:\n",
    "                        r.append(False)\n",
    "                        break\n",
    "                    else:\n",
    "                        r.append(True)\n",
    "            elif a[0] > a[1]:\n",
    "                for i in range(len(a)-1):\n",
    "                    if a[i] - 4 >= a[i+1] or a[i] <= a[i+1]:\n",
    "                        r.append(False)\n",
    "                        break\n",
    "                    else:\n",
    "                        r.append(True)\n",
    "            else:\n",
    "                r.append(False)\n",
    "        \n",
    "            safe.append(all(r))\n",
    "\n",
    "R = safe.count(True)\n",
    "\n",
    "end = time.time() - start\n",
    "\n",
    "print(f\"Response: {R},Time:{end} s\")"
   ]
  },
  {
   "cell_type": "code",
   "execution_count": 85,
   "metadata": {},
   "outputs": [
    {
     "name": "stdout",
     "output_type": "stream",
     "text": [
      "376\n"
     ]
    }
   ],
   "source": [
    "import csv\n",
    "import time\n",
    "\n",
    "\n",
    "\n",
    "start = time.time()\n",
    "safe = []\n",
    "\n",
    "with open('data_2.csv', newline='') as csvfile:\n",
    "    reader = csv.reader(csvfile)\n",
    "    for row in reader:\n",
    "        r = []\n",
    "        a = row[0].split(' ')\n",
    "        a = [int(i) for i in a]\n",
    "        \n",
    "        if len(set(a))+1 < len(a):\n",
    "            safe.append(False)\n",
    "        \n",
    "        else:\n",
    "            buff = None\n",
    "            error = 0\n",
    "            set_a = list(set(a))\n",
    "            \n",
    "            for i in range(len(a)-1):\n",
    "                if a[i]==a[i+1]:\n",
    "                    continue\n",
    "                if a[i]>a[i+1]:\n",
    "                    order_desc = True\n",
    "                else:\n",
    "                    order_desc=False\n",
    "                break\n",
    "            \n",
    "            if order_desc:\n",
    "                #desc\n",
    "                for i in a:\n",
    "                    if buff is None:\n",
    "                        buff = i\n",
    "                    else:\n",
    "                        if i > buff - 4 and buff > i:\n",
    "                            buff = i\n",
    "                        else:\n",
    "                            error += 1 \n",
    "                        \n",
    "                        if error > 1:\n",
    "                            r.append(False)\n",
    "                            break\n",
    "                    r.append(True)\n",
    "            else:\n",
    "                #asc\n",
    "                for i in a:\n",
    "                    if buff is None:\n",
    "                        buff = i\n",
    "                    else:\n",
    "                        if i < buff + 4 and buff < i:\n",
    "                            buff = i\n",
    "                        else:\n",
    "                            error += 1 \n",
    "                        \n",
    "                        if error > 1:\n",
    "                            r.append(False)\n",
    "                            break\n",
    "                    r.append(True)\n",
    "\n",
    "            safe.append(all(r))\n",
    "\n",
    "print(safe.count(True)) \n",
    "#389 to low\n",
    "#395 no \n",
    "#417 too high\n",
    "\n",
    "# R = safe.count(True)\n",
    "\n",
    "# end = time.time() - start\n",
    "\n",
    "# print(f\"Response: {R},Time:{end} s\")\n"
   ]
  }
 ],
 "metadata": {
  "kernelspec": {
   "display_name": "Python 3",
   "language": "python",
   "name": "python3"
  },
  "language_info": {
   "codemirror_mode": {
    "name": "ipython",
    "version": 3
   },
   "file_extension": ".py",
   "mimetype": "text/x-python",
   "name": "python",
   "nbconvert_exporter": "python",
   "pygments_lexer": "ipython3",
   "version": "3.11.4"
  }
 },
 "nbformat": 4,
 "nbformat_minor": 2
}
